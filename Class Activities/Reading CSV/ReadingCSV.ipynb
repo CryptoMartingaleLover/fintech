{
 "cells": [
  {
   "cell_type": "code",
   "execution_count": null,
   "id": "bbf614ae-9724-46c7-a279-e660d687368f",
   "metadata": {},
   "outputs": [],
   "source": [
    "Student Activity: Reading Stocks Data from a CSV\n",
    "1. Import the pandas library as _pd_\n",
    " # initial imports\n",
    "  \n",
    "\n",
    "\n",
    "# create a Pandas dataframe from a csv file\n",
    "  3. Exploring the data\n",
    " # get the first 10 rows from the dataframe\n",
    "  4. Fixing column names\n",
    " # set colum names\n",
    "\n",
    "\n",
    "# recreate the dataframe\n",
    "\n",
    "\n",
    "# add columns names\n",
    "  5. Get the first 10 rows\n",
    " # get the first 10 rows from the dataframe\n",
    "  6. Get the bottom 10 rows\n",
    " # get the bottom 10 rows from the dataframe"
   ]
  },
  {
   "cell_type": "code",
   "execution_count": 1,
   "id": "7fb764fd-e732-43d8-a9f6-bd8ebef74575",
   "metadata": {},
   "outputs": [],
   "source": [
    "# 1. Import the pandas library as _pd_\n",
    " # initial imports\n",
    "    \n",
    "    \n",
    "import pandas as pd\n",
    "from pathlib import Path"
   ]
  },
  {
   "cell_type": "code",
   "execution_count": null,
   "id": "1c0624d5-5ac0-4bc8-9a61-f8c4d481d8af",
   "metadata": {},
   "outputs": [],
   "source": []
  },
  {
   "cell_type": "code",
   "execution_count": 2,
   "id": "4b7fbf17-98d3-4772-aeee-5e9ece221044",
   "metadata": {},
   "outputs": [],
   "source": [
    "# 2. Create a dataframe reading a CSV file\n",
    " # set the file path\n",
    "    \n",
    "csvpath = Path(\"week_3_3.2_StudentActivities_Reading_CSV_amd_stock_data.csv\")\n",
    "data_file = pd.read_csv(csvpath)\n",
    "data_file.head()\n",
    "df = pd.read_csv(csvpath)"
   ]
  },
  {
   "cell_type": "code",
   "execution_count": null,
   "id": "18960e18-a645-4a72-be65-261149120deb",
   "metadata": {},
   "outputs": [],
   "source": []
  },
  {
   "cell_type": "code",
   "execution_count": null,
   "id": "3f33fcd5-48ec-4441-b3f9-bc1f31056d23",
   "metadata": {},
   "outputs": [],
   "source": []
  },
  {
   "cell_type": "code",
   "execution_count": null,
   "id": "b254626f-abd9-466c-b0c1-171b89688146",
   "metadata": {},
   "outputs": [],
   "source": []
  },
  {
   "cell_type": "code",
   "execution_count": null,
   "id": "e58b4947-9297-4a47-a96a-a35a2215e504",
   "metadata": {},
   "outputs": [],
   "source": []
  },
  {
   "cell_type": "code",
   "execution_count": null,
   "id": "521ec0a8-7fd9-42da-9181-00c0a25f09c2",
   "metadata": {},
   "outputs": [],
   "source": []
  },
  {
   "cell_type": "code",
   "execution_count": null,
   "id": "52b26a02-95ba-4eee-9394-70a19ee077a9",
   "metadata": {},
   "outputs": [],
   "source": []
  },
  {
   "cell_type": "code",
   "execution_count": null,
   "id": "17fe6c28-e8ad-4f3a-bc13-cdc92bff2df1",
   "metadata": {},
   "outputs": [],
   "source": []
  },
  {
   "cell_type": "code",
   "execution_count": null,
   "id": "b8b2b90b-cd56-44eb-8df2-c6425ba67ab6",
   "metadata": {},
   "outputs": [],
   "source": []
  }
 ],
 "metadata": {
  "kernelspec": {
   "display_name": "Python 3",
   "language": "python",
   "name": "python3"
  },
  "language_info": {
   "codemirror_mode": {
    "name": "ipython",
    "version": 3
   },
   "file_extension": ".py",
   "mimetype": "text/x-python",
   "name": "python",
   "nbconvert_exporter": "python",
   "pygments_lexer": "ipython3",
   "version": "3.8.5"
  }
 },
 "nbformat": 4,
 "nbformat_minor": 5
}
