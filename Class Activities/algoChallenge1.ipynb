{
 "cells": [
  {
   "cell_type": "code",
   "execution_count": null,
   "id": "9282fa47-ce6b-4963-94e0-a5ec760fab86",
   "metadata": {},
   "outputs": [],
   "source": [
    "# Import the `random` library.\n",
    "\n",
    "# Answer each question with the correct coding solution.\n",
    "\n",
    "# QUESTION 1: Create a function called `number_guess` that takes in an integer as an argument.\n",
    "# If the number is 42, print(true). If it isn't 42, print(false)\n",
    "\n",
    "\n",
    "# This code is to help you test your function\n",
    "\n",
    "\n",
    "# QUESTION 2: Write a function that takes in a list of numbers. the function should print the smallest number in the given list\n",
    "\n",
    "\n",
    "# This code is to help you test your function\n",
    "\n",
    "\n",
    "# QUESTION 3: Write a function which takes in a list of strings. The function should print the shortest string in the list.\n",
    "\n",
    "\n",
    "\n",
    "# This code is to help you test your function\n",
    "\n",
    "\n",
    "#QUESTION 4: Write a function that takes in three arguments: a high value, a low value and a list of numbers.\n",
    "# The function should print a new list of numbers where the elements are greater than the low value and less than the high value\n",
    "\n",
    "\n",
    "# This code is to help you test your function\n"
   ]
  },
  {
   "cell_type": "code",
   "execution_count": null,
   "id": "5bf47503-8ada-498c-908e-1e6caf2d3a06",
   "metadata": {},
   "outputs": [],
   "source": []
  },
  {
   "cell_type": "code",
   "execution_count": 1,
   "id": "5e2928d5-ed54-4f71-b574-a8a90475da5b",
   "metadata": {},
   "outputs": [],
   "source": [
    "# Import the `random` library.\n",
    "\n",
    "import random\n"
   ]
  },
  {
   "cell_type": "code",
   "execution_count": 22,
   "id": "c4c23c53-4912-4f47-ac9e-3ed5e542cda7",
   "metadata": {},
   "outputs": [
    {
     "name": "stdout",
     "output_type": "stream",
     "text": [
      "True\n"
     ]
    }
   ],
   "source": [
    "# Answer each question with the correct coding solution.\n",
    "# QUESTION 1: Create a function called `number_guess` that takes in an integer as an argument.\n",
    "# If the number is 42, print(true). If it isn't 42, print(false)\n",
    "\n",
    "def number_guess(int):\n",
    "    if int == 42:\n",
    "        print(True)\n",
    "    else:\n",
    "        print(False)\n",
    "        \n",
    "number_guess(42)"
   ]
  },
  {
   "cell_type": "code",
   "execution_count": 25,
   "id": "3154eab9-0077-49e8-a53b-bfb4a5f0cc7d",
   "metadata": {},
   "outputs": [
    {
     "name": "stdout",
     "output_type": "stream",
     "text": [
      "Number 42\n",
      "True\n"
     ]
    }
   ],
   "source": [
    "# This code is to help you test your function\n",
    "test_num = random.randint(40, 45)\n",
    "print(f\"Number {test_num}\")\n",
    "number_guess(test_num)\n"
   ]
  },
  {
   "cell_type": "code",
   "execution_count": 27,
   "id": "92659784-48e4-4921-830d-72b69118e563",
   "metadata": {},
   "outputs": [
    {
     "name": "stdout",
     "output_type": "stream",
     "text": [
      "The smallest number in the list is 2\n"
     ]
    }
   ],
   "source": [
    "# QUESTION 2: Write a function that takes in a list of numbers. the function should print the smallest number in the given list\n",
    "\n",
    "def find_smallest(list_param):\n",
    "    minimum = 0\n",
    "    \n",
    "    for number in list_param:\n",
    "        if minimum == 0:\n",
    "            minimum = number\n",
    "        elif number < minimum:\n",
    "            minimum = number\n",
    "            \n",
    "    print(f\"The smallest number in the list is {minimum}\")\n",
    "    \n",
    "find_smallest([33, 45, 2, 89])"
   ]
  },
  {
   "cell_type": "code",
   "execution_count": 28,
   "id": "84387bb7-c15f-4107-a14f-549c27b0b7c8",
   "metadata": {},
   "outputs": [
    {
     "name": "stdout",
     "output_type": "stream",
     "text": [
      "The smallest number in the list is 1\n"
     ]
    }
   ],
   "source": [
    "nums = [10, 3 ,1, 998, 449]\n",
    "find_smallest(nums)"
   ]
  },
  {
   "cell_type": "code",
   "execution_count": 32,
   "id": "7c2609ca-1482-46c2-9d24-4f2b359f343b",
   "metadata": {},
   "outputs": [
    {
     "name": "stdout",
     "output_type": "stream",
     "text": [
      "The minimum value is -2.\n"
     ]
    }
   ],
   "source": [
    "# Matt's solution:\n",
    "\n",
    "import numpy\n",
    "\n",
    "def min_value(number_list):\n",
    "    minimum_value = number_list[0]\n",
    "    \n",
    "    for number in number_list:\n",
    "        if number < minimum_value:\n",
    "            minimum_value = number\n",
    "    print(f\"The minimum value is {minimum_value}.\")\n",
    "    return\n",
    "    \n",
    "my_list = [100, 4, -2, 20, 50, 80]\n",
    "min_value(my_list)"
   ]
  },
  {
   "cell_type": "code",
   "execution_count": 33,
   "id": "7f083c25-7b5b-45c3-b7fc-2722f4972de5",
   "metadata": {},
   "outputs": [
    {
     "data": {
      "text/plain": [
       "-2"
      ]
     },
     "execution_count": 33,
     "metadata": {},
     "output_type": "execute_result"
    }
   ],
   "source": [
    "numpy.min(my_list)"
   ]
  },
  {
   "cell_type": "code",
   "execution_count": 39,
   "id": "901cb806-50fc-45ba-92f8-5f4139aafd7d",
   "metadata": {},
   "outputs": [],
   "source": [
    "# QUESTION 3: Write a function which takes in a list of strings. The function should print the shortest string in the list.\n",
    "\n",
    "def shortest_string(list_of_strings):\n",
    "    minimum_length = len(list_of_strings[0])\n",
    "    shortest_string = list_of_strings[0]\n",
    "    \n",
    "    for string in list_of_strings:\n",
    "        if len(string) < minimum_length:\n",
    "            minimum_length = len(string)\n",
    "            shortest_string = string\n",
    "            \n",
    "    print(f\"The shortest string is {shortest_string}, with {minimum_length} letters.\")\n"
   ]
  },
  {
   "cell_type": "code",
   "execution_count": 40,
   "id": "8d74d3b0-696f-495f-ab54-42ebe79ca1f9",
   "metadata": {},
   "outputs": [
    {
     "name": "stdout",
     "output_type": "stream",
     "text": [
      "The shortest string is Anne, with 4 letters.\n"
     ]
    }
   ],
   "source": [
    "string_list = ['Albert', 'Dudley', 'Anne', 'Walter', 'Wilhelm']\n",
    "shortest_string(string_list)"
   ]
  },
  {
   "cell_type": "code",
   "execution_count": null,
   "id": "73380932-deb9-44ff-a32e-f66e75e134e2",
   "metadata": {},
   "outputs": [],
   "source": []
  },
  {
   "cell_type": "code",
   "execution_count": 44,
   "id": "298d6fb7-3ef9-4849-a2df-b568918b52b1",
   "metadata": {},
   "outputs": [],
   "source": [
    "#QUESTION 4: Write a function that takes in three arguments: a high value, a low value and a list of numbers.\n",
    "# The function should print a new list of numbers where the elements are greater than the low value and less than the high value\n",
    "\n",
    "def range_of_numbers(high, low, group):\n",
    "    my_list = []\n",
    "    \n",
    "    for number in group:\n",
    "        if number > low and number < high:\n",
    "            my_list.append(number)\n",
    "    return my_list"
   ]
  },
  {
   "cell_type": "code",
   "execution_count": 46,
   "id": "6d683029-5048-47ae-8ff1-231d8ddba451",
   "metadata": {},
   "outputs": [
    {
     "data": {
      "text/plain": [
       "[23, 18, 21]"
      ]
     },
     "execution_count": 46,
     "metadata": {},
     "output_type": "execute_result"
    }
   ],
   "source": [
    "# This code is to help you test your function\n",
    "high = 99\n",
    "low = 15\n",
    "arr = [2,5,99,15,23,18,11,21]\n",
    "\n",
    "range_of_numbers(high, low, arr)\n"
   ]
  },
  {
   "cell_type": "code",
   "execution_count": null,
   "id": "6b401fe3-61f5-4999-9589-5c920fb89d08",
   "metadata": {},
   "outputs": [],
   "source": []
  },
  {
   "cell_type": "code",
   "execution_count": null,
   "id": "3757b45c-170e-46e3-aa69-1e0bf46f4afe",
   "metadata": {},
   "outputs": [],
   "source": []
  },
  {
   "cell_type": "code",
   "execution_count": null,
   "id": "b6434e91-22cb-4b18-b7c3-c76a23b368c7",
   "metadata": {},
   "outputs": [],
   "source": []
  },
  {
   "cell_type": "code",
   "execution_count": null,
   "id": "ab112f48-7241-47d9-a200-0b6e60cd6862",
   "metadata": {},
   "outputs": [],
   "source": []
  },
  {
   "cell_type": "code",
   "execution_count": null,
   "id": "39311904-dd9d-4faf-b192-6ce8c5a56540",
   "metadata": {},
   "outputs": [],
   "source": []
  },
  {
   "cell_type": "code",
   "execution_count": null,
   "id": "fcca5cbd-99a3-4935-946f-a1895d02f6b2",
   "metadata": {},
   "outputs": [],
   "source": []
  },
  {
   "cell_type": "code",
   "execution_count": null,
   "id": "18c09b8c-06a7-46f6-8df4-0c0a635bf016",
   "metadata": {},
   "outputs": [],
   "source": []
  }
 ],
 "metadata": {
  "kernelspec": {
   "display_name": "Python 3",
   "language": "python",
   "name": "python3"
  },
  "language_info": {
   "codemirror_mode": {
    "name": "ipython",
    "version": 3
   },
   "file_extension": ".py",
   "mimetype": "text/x-python",
   "name": "python",
   "nbconvert_exporter": "python",
   "pygments_lexer": "ipython3",
   "version": "3.8.5"
  }
 },
 "nbformat": 4,
 "nbformat_minor": 5
}
