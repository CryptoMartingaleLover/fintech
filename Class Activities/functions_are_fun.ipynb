{
 "cells": [
  {
   "cell_type": "code",
   "execution_count": null,
   "id": "643acd67-774c-4ee6-b6a5-6315e0c4e6ae",
   "metadata": {},
   "outputs": [],
   "source": [
    "# Define a function `having_fun` that prints \"Functions are FUN!\".\n",
    "\n",
    "# Define a function `thirty_seven` that prints the sum of 18 and 19.\n",
    "\n",
    "\n",
    "# Call the two functions you've defined so far.\n",
    "\n",
    "\n",
    "# Define a function `hello` that takes in a string parameter and prints the parameter variable.\n",
    "\n",
    "\n",
    "# Call your `hello` function.\n",
    "\n",
    "\n",
    "# Define a function `user_input` that asks the user \"What is your name?\" and stores it in a variable called `user_name` and print the user's name.\n",
    "\n",
    "\n",
    "# Call your `user_input` function.\n",
    "\n",
    "\n",
    "# Define a function `good_day` that creates a input dialogue asking the user \"Are you having a nice day?\" and prints the response.\n",
    "\n",
    "\n",
    "# Call your `good_day` function.\n",
    "\n",
    "\n",
    "# Define a function `average` that calculates the average between two parameters and returns the average.\n",
    "\n",
    "\n",
    "# Call the `average` function and assign to a variable `calculated_average`.\n"
   ]
  },
  {
   "cell_type": "code",
   "execution_count": 25,
   "id": "0270af5e-0e3b-49b7-bc84-ee09abc851b7",
   "metadata": {},
   "outputs": [],
   "source": [
    "# Define a function `having_fun` that prints \"Functions are FUN!\".\n",
    "\n",
    "def having_fun():\n",
    "    print(\"Functions are FUN!\")\n",
    "    return\n",
    "\n",
    "having_fun()\n"
   ]
  },
  {
   "cell_type": "code",
   "execution_count": 3,
   "id": "2770012c-2d05-48ae-bc1c-f8644aecf21f",
   "metadata": {},
   "outputs": [],
   "source": []
  },
  {
   "cell_type": "code",
   "execution_count": 26,
   "id": "d844bf8a-001e-4623-9649-4d854a3921e0",
   "metadata": {},
   "outputs": [
    {
     "name": "stdout",
     "output_type": "stream",
     "text": [
      "37\n"
     ]
    }
   ],
   "source": [
    "# Define a function `thirty_seven` that prints the sum of 18 and 19.\n",
    "\n",
    "def thirty_seven():\n",
    "    number = 18+19\n",
    "    print(number)\n",
    "    return\n",
    "    \n",
    "thirty_seven()"
   ]
  },
  {
   "cell_type": "code",
   "execution_count": null,
   "id": "ec3d986d-c5a5-419a-bbcb-df53465d7c17",
   "metadata": {},
   "outputs": [],
   "source": []
  },
  {
   "cell_type": "code",
   "execution_count": 12,
   "id": "4240ba43-f463-4855-b882-455c5105700a",
   "metadata": {},
   "outputs": [],
   "source": [
    "# Define a function `hello` that takes in a string parameter and prints the parameter variable.\n",
    "\n",
    "def hello(string_param):\n",
    "    print(string_param)\n",
    "    return\n"
   ]
  },
  {
   "cell_type": "code",
   "execution_count": 13,
   "id": "9a247f2f-c891-4104-8daf-094b74a3eaed",
   "metadata": {},
   "outputs": [
    {
     "name": "stdout",
     "output_type": "stream",
     "text": [
      "Hello, World!\n"
     ]
    }
   ],
   "source": [
    "hello('Hello, World!')"
   ]
  },
  {
   "cell_type": "code",
   "execution_count": null,
   "id": "cf8385a4-92c7-437c-832a-085edb58c0fa",
   "metadata": {},
   "outputs": [],
   "source": []
  },
  {
   "cell_type": "code",
   "execution_count": 18,
   "id": "6695f4fd-8ac8-4563-b80a-08343cf43b55",
   "metadata": {},
   "outputs": [
    {
     "name": "stdin",
     "output_type": "stream",
     "text": [
      "What is your name, bruh? Jimmy\n"
     ]
    },
    {
     "name": "stdout",
     "output_type": "stream",
     "text": [
      "Jimmy\n"
     ]
    }
   ],
   "source": [
    "def user_input():\n",
    "    user_name = input(\"What is your name, bruh?\")\n",
    "    print(user_name)\n",
    "user_input()"
   ]
  },
  {
   "cell_type": "code",
   "execution_count": null,
   "id": "705c991f-495d-43fc-9bb1-32a6623c633a",
   "metadata": {},
   "outputs": [],
   "source": []
  },
  {
   "cell_type": "code",
   "execution_count": 19,
   "id": "4975cda9-4b6c-40ad-9fba-0a519f5a3156",
   "metadata": {},
   "outputs": [
    {
     "name": "stdin",
     "output_type": "stream",
     "text": [
      "Are you having a good day? Yep\n"
     ]
    },
    {
     "name": "stdout",
     "output_type": "stream",
     "text": [
      "Yep\n"
     ]
    }
   ],
   "source": [
    "def good_day():\n",
    "    answer = input(\"Are you having a good day?\")\n",
    "    print(answer)\n",
    "good_day()"
   ]
  },
  {
   "cell_type": "code",
   "execution_count": null,
   "id": "63bdea7e-61c3-4d10-a1e9-a270eb6154cf",
   "metadata": {},
   "outputs": [],
   "source": []
  },
  {
   "cell_type": "code",
   "execution_count": 33,
   "id": "4fffc6f4-959e-4e22-82b6-dafada669b74",
   "metadata": {},
   "outputs": [
    {
     "name": "stdout",
     "output_type": "stream",
     "text": [
      "Calculated Average: 50.0\n"
     ]
    }
   ],
   "source": [
    "#def average():\n",
    "#    parameter_1 = input(\"Enter the first parameter number.\")\n",
    "#    parameter_2 = input(\"Enter the second parameter number.\")\n",
    "#    calculated_average = int(parameter_1 + parameter_2)/2\n",
    "#    print(calculated_average)\n",
    "#average()\n",
    "\n",
    "def average(num_1, num_2):\n",
    "    avg_calc = (num_1 + num_2) / 2\n",
    "    return avg_calc\n",
    "\n",
    "# Call the `average` function and assign to a variable `calculated_average`.\n",
    "calculated_average = average(90, 10)\n",
    "print(f\"Calculated Average: {calculated_average}\")\n"
   ]
  },
  {
   "cell_type": "code",
   "execution_count": null,
   "id": "5c4de447-605b-4269-81c3-c3a6c722188d",
   "metadata": {},
   "outputs": [],
   "source": []
  },
  {
   "cell_type": "code",
   "execution_count": 31,
   "id": "6fdf4318-7350-480f-ac3b-13eb04b1fbab",
   "metadata": {},
   "outputs": [
    {
     "name": "stdout",
     "output_type": "stream",
     "text": [
      "7.5\n"
     ]
    }
   ],
   "source": [
    "def average(input1, input2):\n",
    "    avg_calc = (input1 + input2)/2\n",
    "    return avg_calc\n",
    "\n",
    "calculated_average = average(5, 10)\n",
    "print(calculated_average)\n",
    "    "
   ]
  },
  {
   "cell_type": "code",
   "execution_count": null,
   "id": "5cbd6fc5-8fd5-4edf-84b8-fba4623818ba",
   "metadata": {},
   "outputs": [],
   "source": []
  },
  {
   "cell_type": "code",
   "execution_count": null,
   "id": "a917994c-c8cf-4eea-b158-cb219ddccd68",
   "metadata": {},
   "outputs": [],
   "source": []
  },
  {
   "cell_type": "code",
   "execution_count": null,
   "id": "007ae960-20e7-4e38-a3f1-09a1f71f170a",
   "metadata": {},
   "outputs": [],
   "source": []
  },
  {
   "cell_type": "code",
   "execution_count": null,
   "id": "314a6f9c-a33a-42d3-a46f-0a6e62faac3f",
   "metadata": {},
   "outputs": [],
   "source": []
  },
  {
   "cell_type": "code",
   "execution_count": null,
   "id": "ec34619d-1a9b-4c47-a1db-7dd96003792c",
   "metadata": {},
   "outputs": [],
   "source": []
  }
 ],
 "metadata": {
  "kernelspec": {
   "display_name": "Python 3",
   "language": "python",
   "name": "python3"
  },
  "language_info": {
   "codemirror_mode": {
    "name": "ipython",
    "version": 3
   },
   "file_extension": ".py",
   "mimetype": "text/x-python",
   "name": "python",
   "nbconvert_exporter": "python",
   "pygments_lexer": "ipython3",
   "version": "3.8.5"
  }
 },
 "nbformat": 4,
 "nbformat_minor": 5
}
