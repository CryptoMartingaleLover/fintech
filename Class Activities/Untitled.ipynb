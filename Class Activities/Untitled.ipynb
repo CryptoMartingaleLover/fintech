{
 "cells": [
  {
   "cell_type": "code",
   "execution_count": 19,
   "id": "56104982-192d-47fe-85db-795b2c1678d5",
   "metadata": {},
   "outputs": [
    {
     "name": "stdout",
     "output_type": "stream",
     "text": [
      "What is your name, bruh?\n"
     ]
    },
    {
     "name": "stdin",
     "output_type": "stream",
     "text": [
      " lyle\n"
     ]
    },
    {
     "name": "stdout",
     "output_type": "stream",
     "text": [
      "Hello, lyle. We've been... expecting you.\n"
     ]
    }
   ],
   "source": [
    "def hello(name):\n",
    "    print(\"Hello, \" + name)\n",
    "    \n",
    "print(\"What is your name, bruh?\")\n",
    "name= input()\n",
    "\n",
    "hello(name + \". We've been... expecting you.\")\n"
   ]
  },
  {
   "cell_type": "code",
   "execution_count": 20,
   "id": "f738386f-04b1-426d-8c5d-181aeab70470",
   "metadata": {},
   "outputs": [
    {
     "name": "stdout",
     "output_type": "stream",
     "text": [
      "Give me a P!\n",
      "P!\n",
      "Give me a y!\n",
      "y!\n",
      "Give me a t!\n",
      "t!\n",
      "Give me a h!\n",
      "h!\n",
      "Give me a o!\n",
      "o!\n",
      "Give me a n!\n",
      "n!\n",
      "\n",
      "What does that spell?!\n",
      "Python!\n",
      "Woohoo! Go Python!\n",
      "*\\O/**\\O/**\\O/*\n",
      "ヘ( ^o^)ノ＼(^_^ )\n",
      "\n",
      "Give me a F!\n",
      "F!\n",
      "Give me a i!\n",
      "i!\n",
      "Give me a n!\n",
      "n!\n",
      "Give me a T!\n",
      "T!\n",
      "Give me a e!\n",
      "e!\n",
      "Give me a c!\n",
      "c!\n",
      "Give me a h!\n",
      "h!\n",
      "\n",
      "What does that spell?!\n",
      "FinTech!\n",
      "Woohoo! Go FinTech!\n",
      "*\\O/**\\O/**\\O/*\n",
      "ヘ( ^o^)ノ＼(^_^ )\n",
      "\n",
      "Give me a M!\n",
      "M!\n",
      "Give me a o!\n",
      "o!\n",
      "Give me a n!\n",
      "n!\n",
      "Give me a e!\n",
      "e!\n",
      "Give me a y!\n",
      "y!\n",
      "\n",
      "What does that spell?!\n",
      "Money!\n",
      "Woohoo! Go Money!\n",
      "*\\O/**\\O/**\\O/*\n",
      "ヘ( ^o^)ノ＼(^_^ )\n",
      "\n"
     ]
    }
   ],
   "source": [
    "# Cheer-leading python exercise\n",
    "# Create a variable named cheer\n",
    "cheer = [\"Python\", \"FinTech\",\"Money\"]\n",
    "\n",
    "# Below strings can be used to add fun\n",
    "cheer_symbol = \"*\\O/*\"\n",
    "cheer_symbol_2 = \"ヘ( ^o^)ノ＼(^_^ )\"\n",
    "\n",
    "# Loop through string\n",
    "for i in range(len(cheer)):\n",
    "    for x in cheer[i]:\n",
    "        #Print each letter with a cheer\n",
    "        print(\"Give me a \" + x + \"!\")\n",
    "        print(x + \"!\")\n",
    "\n",
    "    # Print excitement to screen\n",
    "    print(\"\\nWhat does that spell?!\")\n",
    "    print(cheer[i] + \"!\\nWoohoo! Go \" + cheer[i] + \"!\")\n",
    "    print(cheer_symbol * 3)\n",
    "    print(cheer_symbol_2)\n",
    "    print()\n",
    "\n"
   ]
  },
  {
   "cell_type": "code",
   "execution_count": null,
   "id": "9ea406cd-9d2c-419c-98c1-42833938cdc0",
   "metadata": {},
   "outputs": [],
   "source": []
  },
  {
   "cell_type": "code",
   "execution_count": 22,
   "id": "fd1f32af-0c89-4131-ab5d-dd5fb3282e9d",
   "metadata": {},
   "outputs": [
    {
     "name": "stdout",
     "output_type": "stream",
     "text": [
      "\n",
      "Dictionary: {'title': 'Trading Log', '03-18-2019': -224, '03-19-2019': 352, '03-20-2019': 252, '03-21-2019': 354, '03-22-2019': -544, '03-23-2019': -650, '03-24-2019': 56, '03-25-2019': 123, '03-26-2019': -43, '03-27-2019': 254, '03-28-2019': 325, '03-29-2019': -123, '03-30-2019': 47, '03-31-2019': 321, '04-01-2019': 123, '04-02-2019': 133, '04-03-2019': -151, '04-04-2019': 613, '04-05-2019': 232, '04-06-2019': -311}\n",
      "\n"
     ]
    }
   ],
   "source": [
    "# Initialize a dictionary\n",
    "trading_pnl = {\n",
    "    \"title\": \"Trading Log\",\n",
    "    \"03-18-2019\": -224,\n",
    "    \"03-19-2019\": 352,\n",
    "    \"03-20-2019\": 252,\n",
    "    \"03-21-2019\": 354,\n",
    "    \"03-22-2019\": -544,\n",
    "    \"03-23-2019\": -650,\n",
    "    \"03-24-2019\": 56,\n",
    "    \"03-25-2019\": 123,\n",
    "    \"03-26-2019\": -43,\n",
    "    \"03-27-2019\": 254,\n",
    "    \"03-28-2019\": 325,\n",
    "    \"03-29-2019\": -123,\n",
    "    \"03-30-2019\": 47,\n",
    "    \"03-31-2019\": 321,\n",
    "    \"04-01-2019\": 123,\n",
    "    \"04-02-2019\": 133,\n",
    "    \"04-03-2019\": -151,\n",
    "    \"04-04-2019\": 613,\n",
    "    \"04-05-2019\": 232,\n",
    "    \"04-06-2019\": -311\n",
    "}\n",
    "\n",
    "# Print out dictionary, initial print() to serve as spacing between command line input\n",
    "print()\n",
    "print(f\"Dictionary: {trading_pnl}\")\n",
    "print()"
   ]
  },
  {
   "cell_type": "code",
   "execution_count": 23,
   "id": "04df5294-4c51-43dd-9369-f3932c25e22b",
   "metadata": {},
   "outputs": [
    {
     "name": "stdout",
     "output_type": "stream",
     "text": [
      "03-31-2019: 321\n",
      "\n"
     ]
    }
   ],
   "source": [
    "# Print out specific value of a key\n",
    "print(f\"03-31-2019: {trading_pnl['03-31-2019']}\")\n",
    "print()\n"
   ]
  },
  {
   "cell_type": "code",
   "execution_count": 24,
   "id": "010670bc-a28e-4bd1-a787-44ae3631b110",
   "metadata": {},
   "outputs": [
    {
     "name": "stdout",
     "output_type": "stream",
     "text": [
      "{'title': 'Trading Log', '03-18-2019': -224, '03-19-2019': 352, '03-20-2019': 252, '03-21-2019': 354, '03-22-2019': -544, '03-23-2019': -650, '03-24-2019': 56, '03-25-2019': 123, '03-26-2019': -43, '03-27-2019': 254, '03-28-2019': 325, '03-29-2019': -123, '03-30-2019': 47, '03-31-2019': 321, '04-01-2019': 123, '04-02-2019': 133, '04-03-2019': -151, '04-04-2019': 613, '04-05-2019': 232, '04-06-2019': -311, '04-07-2019': 413}\n",
      "\n"
     ]
    }
   ],
   "source": [
    "# Add a new key-value pair\n",
    "trading_pnl[\"04-07-2019\"] = 413\n",
    "print(trading_pnl)\n",
    "print()\n"
   ]
  },
  {
   "cell_type": "code",
   "execution_count": 25,
   "id": "95732881-a975-42e3-bb54-0e8cde793ca4",
   "metadata": {},
   "outputs": [
    {
     "name": "stdout",
     "output_type": "stream",
     "text": [
      "{'title': 'Trading Log', '03-18-2019': -224, '03-19-2019': 352, '03-20-2019': 252, '03-21-2019': 354, '03-22-2019': -544, '03-23-2019': -650, '03-24-2019': 56, '03-25-2019': 123, '03-26-2019': -43, '03-27-2019': 254, '03-28-2019': 325, '03-29-2019': -123, '03-30-2019': 47, '03-31-2019': 321, '04-01-2019': 123, '04-02-2019': 133, '04-03-2019': -151, '04-04-2019': 613, '04-05-2019': 232, '04-06-2019': -311, '04-07-2019': 542}\n",
      "\n"
     ]
    }
   ],
   "source": [
    "# Modify a key value\n",
    "trading_pnl[\"04-07-2019\"] = 542\n",
    "print(trading_pnl)\n",
    "print()\n"
   ]
  },
  {
   "cell_type": "code",
   "execution_count": 30,
   "id": "e88bb1ca-bcdf-44fd-aa86-fff8e35b10ea",
   "metadata": {},
   "outputs": [
    {
     "name": "stdout",
     "output_type": "stream",
     "text": [
      "{'title': 'Trading Log', '03-18-2019': -224, '03-19-2019': 352, '03-20-2019': 252, '03-21-2019': 354, '03-22-2019': -544, '03-23-2019': -650, '03-24-2019': 56, '03-25-2019': 123, '03-26-2019': -43, '03-27-2019': 254, '03-28-2019': 325, '03-29-2019': -123, '03-30-2019': 47, '03-31-2019': 321, '04-01-2019': 123, '04-02-2019': 133, '04-03-2019': -151, '04-04-2019': 613, '04-05-2019': 232, '04-06-2019': -311}\n",
      "\n"
     ]
    }
   ],
   "source": [
    "print(trading_pnl)\n",
    "print()"
   ]
  },
  {
   "cell_type": "code",
   "execution_count": 31,
   "id": "b826ec7e-0c5b-40a2-bf06-922e276c88ad",
   "metadata": {},
   "outputs": [
    {
     "name": "stdout",
     "output_type": "stream",
     "text": [
      "Yes, '04-03-2019' is one of the keys in the trading_pnl dictionary\n",
      "\n"
     ]
    }
   ],
   "source": [
    "# Check if key exists\n",
    "if \"04-03-2019\" in trading_pnl:\n",
    "    print(\"Yes, '04-03-2019' is one of the keys in the trading_pnl dictionary\")\n",
    "print()\n"
   ]
  },
  {
   "cell_type": "code",
   "execution_count": 32,
   "id": "b428518d-180e-4a31-8340-e108a677507a",
   "metadata": {},
   "outputs": [
    {
     "name": "stdout",
     "output_type": "stream",
     "text": [
      "Key: title\n",
      "Key: 03-18-2019\n",
      "Key: 03-19-2019\n",
      "Key: 03-20-2019\n",
      "Key: 03-21-2019\n",
      "Key: 03-22-2019\n",
      "Key: 03-23-2019\n",
      "Key: 03-24-2019\n",
      "Key: 03-25-2019\n",
      "Key: 03-26-2019\n",
      "Key: 03-27-2019\n",
      "Key: 03-28-2019\n",
      "Key: 03-29-2019\n",
      "Key: 03-30-2019\n",
      "Key: 03-31-2019\n",
      "Key: 04-01-2019\n",
      "Key: 04-02-2019\n",
      "Key: 04-03-2019\n",
      "Key: 04-04-2019\n",
      "Key: 04-05-2019\n",
      "Key: 04-06-2019\n",
      "\n"
     ]
    }
   ],
   "source": [
    "# Print out dict keys via a for loop\n",
    "for key in trading_pnl:\n",
    "    print(f\"Key: {key}\")\n",
    "print()\n"
   ]
  },
  {
   "cell_type": "code",
   "execution_count": 33,
   "id": "9dc5fdb2-368d-43f2-bbf0-445b31c78324",
   "metadata": {},
   "outputs": [
    {
     "name": "stdout",
     "output_type": "stream",
     "text": [
      "Value: Trading Log\n",
      "Value: -224\n",
      "Value: 352\n",
      "Value: 252\n",
      "Value: 354\n",
      "Value: -544\n",
      "Value: -650\n",
      "Value: 56\n",
      "Value: 123\n",
      "Value: -43\n",
      "Value: 254\n",
      "Value: 325\n",
      "Value: -123\n",
      "Value: 47\n",
      "Value: 321\n",
      "Value: 123\n",
      "Value: 133\n",
      "Value: -151\n",
      "Value: 613\n",
      "Value: 232\n",
      "Value: -311\n",
      "\n"
     ]
    }
   ],
   "source": [
    "# Print out dict values\n",
    "for key in trading_pnl:\n",
    "    print(f\"Value: {trading_pnl[key]}\")\n",
    "print()\n"
   ]
  },
  {
   "cell_type": "code",
   "execution_count": 34,
   "id": "8c3c0ace-48f9-4257-a3ee-ece5dbe5786c",
   "metadata": {},
   "outputs": [
    {
     "name": "stdout",
     "output_type": "stream",
     "text": [
      "Key: title Value: Trading Log\n",
      "Key: 03-18-2019 Value: -224\n",
      "Key: 03-19-2019 Value: 352\n",
      "Key: 03-20-2019 Value: 252\n",
      "Key: 03-21-2019 Value: 354\n",
      "Key: 03-22-2019 Value: -544\n",
      "Key: 03-23-2019 Value: -650\n",
      "Key: 03-24-2019 Value: 56\n",
      "Key: 03-25-2019 Value: 123\n",
      "Key: 03-26-2019 Value: -43\n",
      "Key: 03-27-2019 Value: 254\n",
      "Key: 03-28-2019 Value: 325\n",
      "Key: 03-29-2019 Value: -123\n",
      "Key: 03-30-2019 Value: 47\n",
      "Key: 03-31-2019 Value: 321\n",
      "Key: 04-01-2019 Value: 123\n",
      "Key: 04-02-2019 Value: 133\n",
      "Key: 04-03-2019 Value: -151\n",
      "Key: 04-04-2019 Value: 613\n",
      "Key: 04-05-2019 Value: 232\n",
      "Key: 04-06-2019 Value: -311\n",
      "\n"
     ]
    }
   ],
   "source": [
    "# Print out dict key-value pairs\n",
    "for key, value in trading_pnl.items():\n",
    "    print(f\"Key: {key} Value: {value}\")\n",
    "print()\n"
   ]
  },
  {
   "cell_type": "code",
   "execution_count": null,
   "id": "cc46b3b6-0a83-42fd-9b89-4a908c53d017",
   "metadata": {},
   "outputs": [],
   "source": []
  },
  {
   "cell_type": "code",
   "execution_count": 36,
   "id": "caa89550-cc99-4f79-b5f2-144b06061a78",
   "metadata": {},
   "outputs": [],
   "source": [
    "def main():\n",
    "    print(\"Greetings!\")"
   ]
  },
  {
   "cell_type": "code",
   "execution_count": 41,
   "id": "ffded20f-4904-4ee7-8a83-cdb803a4a23b",
   "metadata": {},
   "outputs": [],
   "source": [
    "def main(stock_ticker):\n",
    "    print(stock_ticker + \" is booming right now!\")"
   ]
  },
  {
   "cell_type": "markdown",
   "id": "4b4cd3f7-6ac8-4278-9495-3ce0ac110b2e",
   "metadata": {},
   "source": [
    "def calculate_market_cap(market_price, number_of_shares):\n",
    "    cap = market_price * number_of_shares\n",
    "\n",
    "    return cap"
   ]
  },
  {
   "cell_type": "code",
   "execution_count": 43,
   "id": "4adac166-01da-4784-9709-38fde090fc58",
   "metadata": {},
   "outputs": [
    {
     "name": "stdout",
     "output_type": "stream",
     "text": [
      "45000\n"
     ]
    }
   ],
   "source": [
    "def calculate_market_cap(market_price, number_of_shares):\n",
    "    cap = market_price * number_of_shares\n",
    "\n",
    "    return cap\n",
    "\n",
    "print(calculate_market_cap(500, 90))\n"
   ]
  },
  {
   "cell_type": "code",
   "execution_count": null,
   "id": "d6a6092b-b90d-4e25-bad3-cb67d07bdacf",
   "metadata": {},
   "outputs": [],
   "source": []
  },
  {
   "cell_type": "code",
   "execution_count": 44,
   "id": "a773d4ec-5177-4662-a1d7-9c27684a7e22",
   "metadata": {},
   "outputs": [
    {
     "name": "stdout",
     "output_type": "stream",
     "text": [
      "SBUX Market Capitalization: 94588216000.0\n",
      "Data type of market_cap variable is: <class 'float'>\n"
     ]
    }
   ],
   "source": [
    "# Define a calculate_market_cap function, and then call it\n",
    "def calculate_market_cap(market_price, number_of_shares):\n",
    "    cap = market_price * number_of_shares\n",
    "\n",
    "    return cap\n",
    "\n",
    "stock_ticker = \"SBUX\"\n",
    "market_price = 76.06\n",
    "number_of_shares = 1243600000\n",
    "\n",
    "market_cap = calculate_market_cap(market_price, number_of_shares)\n",
    "print(f\"{stock_ticker} Market Capitalization: {market_cap}\")\n",
    "print(f\"Data type of market_cap variable is: {type(market_cap)}\")\n"
   ]
  },
  {
   "cell_type": "code",
   "execution_count": null,
   "id": "c552d4fb-e456-4165-b191-d8bfbeaa09ba",
   "metadata": {},
   "outputs": [],
   "source": []
  },
  {
   "cell_type": "code",
   "execution_count": 45,
   "id": "a3ff420c-0df2-4c23-a08f-d61074722d0d",
   "metadata": {},
   "outputs": [
    {
     "name": "stdout",
     "output_type": "stream",
     "text": [
      "Market Capitalization: 94588216000.0\n",
      "Data type of market_cap variable is: <class 'float'>\n"
     ]
    }
   ],
   "source": [
    "# Capture function output and print output value and data type\n",
    "def calculate_market_cap(market_price, number_of_shares):\n",
    "    cap = market_price * number_of_shares\n",
    "\n",
    "    return cap\n",
    "\n",
    "market_price = 76.06\n",
    "number_of_shares = 1243600000\n",
    "\n",
    "market_cap = calculate_market_cap(market_price, number_of_shares)\n",
    "print(f\"Market Capitalization: {market_cap}\")\n",
    "print(f\"Data type of market_cap variable is: {type(market_cap)}\")\n"
   ]
  },
  {
   "cell_type": "code",
   "execution_count": null,
   "id": "7c83bb15-d2b4-410e-bad2-06e18000630a",
   "metadata": {},
   "outputs": [],
   "source": []
  },
  {
   "cell_type": "code",
   "execution_count": null,
   "id": "25bb5946-f362-4583-9baa-8ea710cb9fc6",
   "metadata": {},
   "outputs": [],
   "source": []
  },
  {
   "cell_type": "code",
   "execution_count": null,
   "id": "2b5db185-6d6e-4baf-a5ff-0fcc05dab80a",
   "metadata": {},
   "outputs": [],
   "source": []
  },
  {
   "cell_type": "code",
   "execution_count": null,
   "id": "17505888-7d0c-404f-ac51-ff3d945b2c1f",
   "metadata": {},
   "outputs": [],
   "source": []
  },
  {
   "cell_type": "code",
   "execution_count": null,
   "id": "8bd6edf1-04ab-43df-94f1-cadaaa22000e",
   "metadata": {},
   "outputs": [],
   "source": []
  },
  {
   "cell_type": "code",
   "execution_count": null,
   "id": "c58fc1b1-76f9-49d4-b661-fcd7b71c2d80",
   "metadata": {},
   "outputs": [],
   "source": []
  }
 ],
 "metadata": {
  "kernelspec": {
   "display_name": "Python 3",
   "language": "python",
   "name": "python3"
  },
  "language_info": {
   "codemirror_mode": {
    "name": "ipython",
    "version": 3
   },
   "file_extension": ".py",
   "mimetype": "text/x-python",
   "name": "python",
   "nbconvert_exporter": "python",
   "pygments_lexer": "ipython3",
   "version": "3.8.5"
  }
 },
 "nbformat": 4,
 "nbformat_minor": 5
}
