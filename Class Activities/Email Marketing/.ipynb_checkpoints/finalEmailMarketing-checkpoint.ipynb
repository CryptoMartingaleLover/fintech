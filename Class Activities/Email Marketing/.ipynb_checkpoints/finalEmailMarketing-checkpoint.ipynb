{
 "cells": [
  {
   "cell_type": "code",
   "execution_count": 2,
   "id": "7681efb9-0cc1-47a6-af2b-f0f9c27420b4",
   "metadata": {},
   "outputs": [
    {
     "name": "stdout",
     "output_type": "stream",
     "text": [
      "Hello Tom Bell, you are currently bronze status.\n",
      "Hello Maggie Johnson, you are currently silver status.\n",
      "Hello John Spectre, you are currently gold status.\n",
      "Hello Susy Simmons, you are currently platinum status.\n"
     ]
    }
   ],
   "source": [
    "# -*- coding: utf-8 -*-\n",
    "\"\"\"Refresher activity.\n",
    "This script will use variables, conditionals, lists, dicts, and functions\n",
    "to print out different greetings for customers based on their\n",
    "business tier (determined by revenue).\n",
    "\"\"\"\n",
    "\n",
    "# List of dicts\n",
    "customers = [\n",
    "    { \"first_name\": \"Tom\", \"last_name\": \"Bell\", \"revenue\": 0 },\n",
    "    { \"first_name\": \"Maggie\", \"last_name\": \"Johnson\", \"revenue\": 1032 },\n",
    "    { \"first_name\": \"John\", \"last_name\": \"Spectre\", \"revenue\": 2543 },\n",
    "    { \"first_name\": \"Susy\", \"last_name\": \"Simmons\", \"revenue\": 5322 }\n",
    "]\n",
    "\n",
    "# @TODO Define a function that accepts a customer first_name, last_name, and\n",
    "# revenue and returns a custom greeting with the full name.\n",
    "# Use these ranges to determine the business tier (and corresponding message)\n",
    "# for each customer.\n",
    "#   Platinum = 3001+\n",
    "#   Gold = 2001-3000\n",
    "#   Silver = 1001-2000\n",
    "#   Bronze = 0-1000\n",
    "def create_greeting(first_name, last_name, revenue):\n",
    "    # @TODO: YOUR CODE HERE!\n",
    "    if revenue > 3000:\n",
    "        status = \"platinum\"\n",
    "    elif revenue > 2000:\n",
    "        status = \"gold\"\n",
    "    elif revenue > 1000:\n",
    "        status = \"silver\"\n",
    "    else:\n",
    "        status = \"bronze\"\n",
    "                 \n",
    "\n",
    "    greeting = f\"Hello {first_name} {last_name}, you are currently {status} status.\"\n",
    "    return greeting\n",
    "\n",
    "# @TODO: Loop through the list of customers and use your function to print\n",
    "\n",
    "for customer in customers:\n",
    "    greeting = create_greeting(customer[\"first_name\"], customer[\"last_name\"], customer[\"revenue\"]) # I need this line explained.\n",
    "    print(greeting)\n",
    "    \n",
    "\n",
    "# custom greetings for each customer.\n",
    "# @TODO: YOUR CODE HERE!\n"
   ]
  },
  {
   "cell_type": "code",
   "execution_count": null,
   "id": "cddbf5b4-0ebc-45d4-a8d4-c7da69795595",
   "metadata": {},
   "outputs": [],
   "source": []
  },
  {
   "cell_type": "code",
   "execution_count": null,
   "id": "b601dbf8-a545-4b98-b16a-a5ef8ee867ca",
   "metadata": {},
   "outputs": [],
   "source": []
  },
  {
   "cell_type": "code",
   "execution_count": null,
   "id": "429acb09-fc4a-413e-965f-5db89201bae9",
   "metadata": {},
   "outputs": [],
   "source": []
  },
  {
   "cell_type": "code",
   "execution_count": null,
   "id": "d899dbcf-a912-4958-af89-ffa9c35e6452",
   "metadata": {},
   "outputs": [],
   "source": []
  }
 ],
 "metadata": {
  "kernelspec": {
   "display_name": "Python 3",
   "language": "python",
   "name": "python3"
  },
  "language_info": {
   "codemirror_mode": {
    "name": "ipython",
    "version": 3
   },
   "file_extension": ".py",
   "mimetype": "text/x-python",
   "name": "python",
   "nbconvert_exporter": "python",
   "pygments_lexer": "ipython3",
   "version": "3.8.5"
  }
 },
 "nbformat": 4,
 "nbformat_minor": 5
}
