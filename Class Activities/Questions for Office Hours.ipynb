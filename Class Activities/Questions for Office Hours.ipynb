{
 "cells": [
  {
   "cell_type": "code",
   "execution_count": null,
   "id": "31dd1379-8180-451d-9f6e-a01ba3cdcc4e",
   "metadata": {},
   "outputs": [],
   "source": [
    "# From Indexing:\n",
    "# . Modify rows with `term` values equal to `36 months` to be `3 years`.\n",
    "\n",
    "shrunken.loc[shrunken['term'] == '36 months', 'term'] = '3 Years' # I don't totally get this line\n",
    "shrunken.head()"
   ]
  },
  {
   "cell_type": "code",
   "execution_count": null,
   "id": "66e4e86c-bab9-4e3f-a46e-3d981b21091c",
   "metadata": {},
   "outputs": [],
   "source": [
    "# 12. Filter `term_df` by rows with `annual_inc` greater than `80000`. Use the `mean()` function to see \n",
    "# the average `int_rate` of three-year loan customers with annual incomes greater than $80,000.\n",
    "\n",
    "shrunken.loc[shrunken['annual_inc'] > 80000].describe() # How do you do the 2nd part of the task?"
   ]
  },
  {
   "cell_type": "code",
   "execution_count": null,
   "id": "f61d4701-e39a-4ba5-8a64-79fdd0c3d3d2",
   "metadata": {},
   "outputs": [],
   "source": []
  },
  {
   "cell_type": "code",
   "execution_count": null,
   "id": "7a23a0a2-5621-4b51-8a78-b13beb04fb1b",
   "metadata": {},
   "outputs": [],
   "source": []
  },
  {
   "cell_type": "code",
   "execution_count": null,
   "id": "d5f03ac7-2e17-4e36-9b04-dc4aa1133635",
   "metadata": {},
   "outputs": [],
   "source": []
  },
  {
   "cell_type": "code",
   "execution_count": null,
   "id": "b8cca2e6-c1e2-4183-b9f9-635ae0025b82",
   "metadata": {},
   "outputs": [],
   "source": []
  }
 ],
 "metadata": {
  "kernelspec": {
   "display_name": "Python 3",
   "language": "python",
   "name": "python3"
  },
  "language_info": {
   "codemirror_mode": {
    "name": "ipython",
    "version": 3
   },
   "file_extension": ".py",
   "mimetype": "text/x-python",
   "name": "python",
   "nbconvert_exporter": "python",
   "pygments_lexer": "ipython3",
   "version": "3.8.5"
  }
 },
 "nbformat": 4,
 "nbformat_minor": 5
}
