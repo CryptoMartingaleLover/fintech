{
 "cells": [
  {
   "cell_type": "code",
   "execution_count": null,
   "id": "fc9805c7-2010-42c0-a28c-4ddf0d05bdc3",
   "metadata": {},
   "outputs": [],
   "source": [
    "# Define a calculate_market_cap function, and then call it\n",
    "def calculate_market_cap(market_price, number_of_shares):\n",
    "    cap = market_price * number_of_shares\n",
    "\n",
    "    return cap\n",
    "\n",
    "stock_ticker = \"SBUX\"\n",
    "market_price = 76.06\n",
    "number_of_shares = 1243600000\n",
    "\n",
    "market_cap = calculate_market_cap(market_price, number_of_shares)\n",
    "print(f\"{stock_ticker} Market Capitalization: {market_cap}\")             # Why curly brackets here and in the next line? \n",
    "print(f\"Data type of market_cap variable is: {type(market_cap)}\")"
   ]
  },
  {
   "cell_type": "code",
   "execution_count": null,
   "id": "6b1d85d3-e047-460e-8f17-4d0f22339e6e",
   "metadata": {},
   "outputs": [],
   "source": [
    "# Create a variable, `full_name`, and assign it a value of the combination of `first_name` and `last_name` with a space.\n",
    "full_name = f\"{first_name} {last_name}\"  # Similar question... why curly brackets? Furthermore, why f-string at all? Is it because the \n",
    "# string is *going to be* used with non-strings that need to be converted to str?\n"
   ]
  },
  {
   "cell_type": "code",
   "execution_count": null,
   "id": "e32a9d06-9fbd-4a04-91a8-a3622fd97887",
   "metadata": {},
   "outputs": [],
   "source": [
    "# Write an if statement that prints the string \"RWAR!\" if the first element of farm is NOT \"Godzilla\".\n",
    "if farm[0] == \"Godzilla\":\n",
    "    print(\"RWAR!\")\n",
    "# I think the \"NOT\" in the top line is wrong"
   ]
  },
  {
   "cell_type": "code",
   "execution_count": null,
   "id": "31dd1379-8180-451d-9f6e-a01ba3cdcc4e",
   "metadata": {},
   "outputs": [],
   "source": []
  },
  {
   "cell_type": "code",
   "execution_count": null,
   "id": "66e4e86c-bab9-4e3f-a46e-3d981b21091c",
   "metadata": {},
   "outputs": [],
   "source": []
  },
  {
   "cell_type": "code",
   "execution_count": null,
   "id": "f61d4701-e39a-4ba5-8a64-79fdd0c3d3d2",
   "metadata": {},
   "outputs": [],
   "source": []
  },
  {
   "cell_type": "code",
   "execution_count": null,
   "id": "7a23a0a2-5621-4b51-8a78-b13beb04fb1b",
   "metadata": {},
   "outputs": [],
   "source": []
  },
  {
   "cell_type": "code",
   "execution_count": null,
   "id": "d5f03ac7-2e17-4e36-9b04-dc4aa1133635",
   "metadata": {},
   "outputs": [],
   "source": []
  },
  {
   "cell_type": "code",
   "execution_count": null,
   "id": "b8cca2e6-c1e2-4183-b9f9-635ae0025b82",
   "metadata": {},
   "outputs": [],
   "source": []
  }
 ],
 "metadata": {
  "kernelspec": {
   "display_name": "Python 3",
   "language": "python",
   "name": "python3"
  },
  "language_info": {
   "codemirror_mode": {
    "name": "ipython",
    "version": 3
   },
   "file_extension": ".py",
   "mimetype": "text/x-python",
   "name": "python",
   "nbconvert_exporter": "python",
   "pygments_lexer": "ipython3",
   "version": "3.8.5"
  }
 },
 "nbformat": 4,
 "nbformat_minor": 5
}
