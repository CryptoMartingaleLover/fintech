{
 "cells": [
  {
   "cell_type": "code",
   "execution_count": null,
   "id": "2a1c35da-4547-4ef8-8cba-1fccedefe157",
   "metadata": {},
   "outputs": [],
   "source": [
    "# Declare an empty list named `our_list`.\n",
    "\n",
    "\n",
    "# Use the `append` list function to append the number 1 into `our_list`.\n",
    "\n",
    "\n",
    "# Append the string \"hello\" into `our_list`.\n",
    "\n",
    "\n",
    "# Append the boolean False into `our_list`.\n",
    "\n",
    "\n",
    "# Append the number 84 into `our_list`.\n",
    "\n",
    "\n",
    "# Append the string \"world\" into `our_list`\n",
    "\n",
    "\n",
    "# Print `our_list`\n",
    "\n",
    "\n",
    "# Declare a variable named `one_to_ten` and assign it an list containing the numbers from 1 to 10.\n",
    "\n",
    "\n",
    "# Print the 4th element from `one_to_ten`.\n",
    "\n",
    "\n",
    "# Print the 7th element from `one_to_ten`.\n",
    "\n",
    "\n",
    "# We've declared this list for you\n",
    "num_list = [2, 65, 3, 7, 39, 22, 11, 94, 299, 9, 20, 21, 51, 37]\n",
    "\n",
    "# Iterate through the provided `num_list` and create an if-else statement to print every number greater than 50\n",
    "\n",
    "\n",
    "# Iterate through the provided `num_list` and use the `index` function to print the index of the first occurrence of the number 11.\n",
    "\n",
    "\n",
    "# Iterate through the provided `num_list` and print the sum of all the numbers.\n",
    "\n",
    "\n",
    "# Iterate through the provided `num_list` and create an if-else statement to print the sum of all the numbers greater than 50.\n",
    "\n",
    "\n",
    "# Iterate through the provided `num_list` and create an if-else statement to print the sum of all the even numbers.\n",
    "\n",
    "\n",
    "fruits = [\n",
    "  \"Apple\", \"Orange\", \"Banana\", \"Pomelo\", \"Apple\", \"Kiwi\", \"Peach\", \"Banana\", \"Grape\", \"Tomato\",\n",
    "  \"Kiwi\", \"Apple\", \"Watermelon\", \"Lemon\", \"Pomelo\", \"Apple\", \"Banana\", \"Peach\", \"Apricot\", \"Grape\"]\n",
    "\n",
    "# Iterate through the provided `fruits` list and print the number of times \"Apple\" appears in the list.\n",
    "\n",
    "\n",
    "# Iterate through the provided `fruits` list and print the number of times \"Peach\" appears in the list.\n",
    "\n",
    "\n",
    "# Iterate through the provided `fruits` list and print the number of fruits that start with \"P\" in the list.\n",
    "\n",
    "\n",
    "## Challenge\n",
    "\n",
    "# Create a new empty list named `unique_fruits`.\n",
    "\n",
    "\n",
    "# Iterate through `fruits` and populate `unique_fruits` with only unique values from `fruits`. Hint: try looking up \"not in\" conditionals for if statements\n",
    "\n",
    "\n",
    "# Print out the `unique_fruits` list.\n",
    "\n",
    "\n",
    "# In this challenge we're going to be working with nested lists.\n",
    "# You can store any type of data within an list- even other lists!\n",
    "two_dim_list = [\n",
    "  [54, 6, 7, 46, 78],\n",
    "  [43, 9, 6, 65, 65],\n",
    "  [32, 1, 44, 1, 23],\n",
    "  [55, 12, 2, 34, 2],\n",
    "  [2, 12, 44, 2, 12]]\n",
    "\n",
    "# Iterate through the first list inside `two_dim_list` and print all the numbers less than 25.\n",
    "\n",
    "\n",
    "# Iterate through the second list inside `two_dim_list` and print all the numbers less than 25.\n",
    "\n",
    "\n",
    "# Iterate through the fifth list inside `two_dim_list` and print all the numbers less than 25.\n",
    "\n",
    "\n",
    "\n",
    "# Iterate through `two_dim_list` and the lists inside of it and print all the odd numbers.\n",
    "\n",
    "\n",
    "# Iterate through `two_dim_list` and the lists inside of it and print the sum of all the numbers that are a multiple of 3.\n",
    "\n"
   ]
  },
  {
   "cell_type": "code",
   "execution_count": null,
   "id": "9294ef1d-a262-439b-8406-db2a0033eda8",
   "metadata": {},
   "outputs": [],
   "source": []
  },
  {
   "cell_type": "code",
   "execution_count": null,
   "id": "7ac5e5df-41e6-4abd-bc8a-947732fef89b",
   "metadata": {},
   "outputs": [],
   "source": []
  },
  {
   "cell_type": "code",
   "execution_count": null,
   "id": "42721e5c-01d0-4d89-b02a-98560502d000",
   "metadata": {},
   "outputs": [],
   "source": []
  },
  {
   "cell_type": "code",
   "execution_count": null,
   "id": "8c83e2e0-b345-4a13-bda3-f2b7f146eb22",
   "metadata": {},
   "outputs": [],
   "source": []
  },
  {
   "cell_type": "code",
   "execution_count": null,
   "id": "3d578019-cc1d-4853-941f-60ac54f0a73a",
   "metadata": {},
   "outputs": [],
   "source": []
  },
  {
   "cell_type": "code",
   "execution_count": null,
   "id": "2c35d33e-3372-4f45-9cea-34db2da5a65f",
   "metadata": {},
   "outputs": [],
   "source": [
    "# Iterate through the provided `num_list` and create an if-else statement to print the sum of all the numbers greater than 50.\n",
    "\n",
    "greater_than_50_total = 0\n",
    "for num in num_list:\n",
    "    if num > 50:\n",
    "        greater_than_50_total += num\n",
    "        "
   ]
  },
  {
   "cell_type": "code",
   "execution_count": null,
   "id": "d8e3996b-1e3c-4417-88b1-1389fa495383",
   "metadata": {},
   "outputs": [],
   "source": []
  },
  {
   "cell_type": "code",
   "execution_count": null,
   "id": "21644d5e-a860-4e97-a551-af071ca0b7a5",
   "metadata": {},
   "outputs": [],
   "source": [
    "# Iterate through the provided `num_list` and create an if-else statement to print the sum of all the even numbers\n",
    "\n",
    "even_sum = 0\n",
    "\n",
    "for num in num_list:\n",
    "    if num % 2 == 0:\n",
    "        even_sum += num\n",
    "\n",
    "\n"
   ]
  },
  {
   "cell_type": "code",
   "execution_count": null,
   "id": "d569e99d-1566-4253-8989-29c35495c35b",
   "metadata": {},
   "outputs": [],
   "source": []
  },
  {
   "cell_type": "code",
   "execution_count": 1,
   "id": "b5f48644-68fc-4f07-9348-87153fd1e5ca",
   "metadata": {},
   "outputs": [
    {
     "name": "stdout",
     "output_type": "stream",
     "text": [
      "4\n"
     ]
    }
   ],
   "source": [
    "fruits = [\n",
    "  \"Apple\", \"Orange\", \"Banana\", \"Pomelo\", \"Apple\", \"Kiwi\", \"Peach\", \"Banana\", \"Grape\", \"Tomato\",\n",
    "  \"Kiwi\", \"Apple\", \"Watermelon\", \"Lemon\", \"Pomelo\", \"Apple\", \"Banana\", \"Peach\", \"Apricot\", \"Grape\"]\n",
    "\n",
    "# Iterate through the provided `fruits` list and print the number of times \"Apple\" appears in the list.\n",
    "\n",
    "apple_count = 0\n",
    "for fruit in fruits:\n",
    "    if fruit == 'Apple':\n",
    "        apple_count += 1\n",
    "        \n",
    "print(apple_count)"
   ]
  },
  {
   "cell_type": "code",
   "execution_count": null,
   "id": "bb777165-11b4-463e-af4c-da7bc8979ca3",
   "metadata": {},
   "outputs": [],
   "source": []
  },
  {
   "cell_type": "code",
   "execution_count": null,
   "id": "6505cee1-33ac-4ca0-9a07-af986611038e",
   "metadata": {},
   "outputs": [],
   "source": [
    "# Iterate through the provided `fruits` list and print the number of fruits that start with \"P\" in the list.\n",
    "\n",
    "p_count = 0\n",
    "\n",
    "for fruit in fruit_list:\n",
    "    if fruit[0] == \"P\":\n",
    "        p_count += 1\n",
    "        \n",
    "        "
   ]
  },
  {
   "cell_type": "code",
   "execution_count": null,
   "id": "bdc69759-0663-4636-8406-84d9298e69f6",
   "metadata": {},
   "outputs": [],
   "source": []
  },
  {
   "cell_type": "code",
   "execution_count": 2,
   "id": "983a90e4-7266-44da-a79a-7c152a30cecc",
   "metadata": {},
   "outputs": [
    {
     "name": "stdout",
     "output_type": "stream",
     "text": [
      "['Apple', 'Orange', 'Banana', 'Pomelo', 'Kiwi', 'Peach', 'Grape', 'Tomato', 'Watermelon', 'Lemon', 'Apricot']\n"
     ]
    }
   ],
   "source": [
    "# Iterate through `fruits` and populate `unique_fruits` with only unique values from `fruits`. Hint: try looking up \"not in\" \n",
    "# conditionals for if statements\n",
    "\n",
    "unique_fruits = []\n",
    "\n",
    "for fruit in fruits:\n",
    "    if fruit not in unique_fruits:\n",
    "        unique_fruits.append(fruit)\n",
    "        \n",
    "print(unique_fruits)\n",
    "\n",
    "\n"
   ]
  },
  {
   "cell_type": "code",
   "execution_count": 3,
   "id": "c117ec80-ab91-49ad-90b1-195b589db2e0",
   "metadata": {},
   "outputs": [
    {
     "data": {
      "text/plain": [
       "array(['Apple', 'Apricot', 'Banana', 'Grape', 'Kiwi', 'Lemon', 'Orange',\n",
       "       'Peach', 'Pomelo', 'Tomato', 'Watermelon'], dtype='<U10')"
      ]
     },
     "execution_count": 3,
     "metadata": {},
     "output_type": "execute_result"
    }
   ],
   "source": [
    "import numpy\n",
    "\n",
    "numpy.unique(fruits)"
   ]
  },
  {
   "cell_type": "code",
   "execution_count": null,
   "id": "6471d2e9-85c9-4030-821a-5957b6d18565",
   "metadata": {},
   "outputs": [],
   "source": []
  },
  {
   "cell_type": "code",
   "execution_count": 5,
   "id": "dedbb05a-16bb-4470-b8f8-f957ab05c174",
   "metadata": {},
   "outputs": [],
   "source": [
    "# In this challenge we're going to be working with nested lists.\n",
    "# You can store any type of data within an list- even other lists!\n",
    "two_dim_list = [\n",
    "  [54, 6, 7, 46, 78],\n",
    "  [43, 9, 6, 65, 65],\n",
    "  [32, 1, 44, 1, 23],\n",
    "  [55, 12, 2, 34, 2],\n",
    "  [2, 12, 44, 2, 12]]"
   ]
  },
  {
   "cell_type": "code",
   "execution_count": 8,
   "id": "09082e29-72b0-406b-a8ca-b357677806e7",
   "metadata": {},
   "outputs": [
    {
     "data": {
      "text/plain": [
       "54"
      ]
     },
     "execution_count": 8,
     "metadata": {},
     "output_type": "execute_result"
    }
   ],
   "source": [
    "two_dim_list[0][0]"
   ]
  },
  {
   "cell_type": "code",
   "execution_count": 9,
   "id": "49cd4313-09cf-496c-88cc-09b83cddaa4b",
   "metadata": {},
   "outputs": [
    {
     "name": "stdout",
     "output_type": "stream",
     "text": [
      "6\n",
      "7\n"
     ]
    }
   ],
   "source": [
    "# Iterate through the first list inside `two_dim_list` and print all the numbers less than 25.\n",
    "\n",
    "for element in two_dim_list[0]:\n",
    "    if element < 25:\n",
    "        print(element)\n",
    "\n",
    "\n",
    "\n"
   ]
  },
  {
   "cell_type": "code",
   "execution_count": null,
   "id": "45e5c972-1e4f-420b-9b17-fbc88c128404",
   "metadata": {},
   "outputs": [],
   "source": []
  },
  {
   "cell_type": "code",
   "execution_count": 10,
   "id": "631a3a7f-e1bf-4fe0-ac62-16481665fbc9",
   "metadata": {},
   "outputs": [
    {
     "name": "stdout",
     "output_type": "stream",
     "text": [
      "9\n",
      "6\n"
     ]
    }
   ],
   "source": [
    "# Iterate through the second list inside `two_dim_list` and print all the numbers less than 25.\n",
    "\n",
    "\n",
    "for element in two_dim_list[1]:\n",
    "    if element < 25:\n",
    "        print(element)"
   ]
  },
  {
   "cell_type": "code",
   "execution_count": null,
   "id": "afcbc419-c9ff-413c-8362-d57a13872109",
   "metadata": {},
   "outputs": [],
   "source": []
  },
  {
   "cell_type": "code",
   "execution_count": 11,
   "id": "a8e00b54-81c4-43a2-a090-1e7d3888aa36",
   "metadata": {},
   "outputs": [
    {
     "name": "stdout",
     "output_type": "stream",
     "text": [
      "2\n",
      "12\n",
      "2\n",
      "12\n"
     ]
    }
   ],
   "source": [
    "# Iterate through the fifth list inside `two_dim_list` and print all the numbers less than 25.\n",
    "\n",
    "for element in two_dim_list[4]:\n",
    "    if element < 25:\n",
    "        print(element)\n",
    "\n"
   ]
  },
  {
   "cell_type": "code",
   "execution_count": null,
   "id": "94f6dde7-0f03-44a8-bb52-a48126abd79c",
   "metadata": {},
   "outputs": [],
   "source": []
  },
  {
   "cell_type": "code",
   "execution_count": 12,
   "id": "e250aa5c-6d38-4b8c-912a-c58bd87e7ed2",
   "metadata": {},
   "outputs": [
    {
     "name": "stdout",
     "output_type": "stream",
     "text": [
      "7\n",
      "43\n",
      "9\n",
      "65\n",
      "65\n",
      "1\n",
      "1\n",
      "23\n",
      "55\n"
     ]
    }
   ],
   "source": [
    "# Iterate through `two_dim_list` and the lists inside of it and print all the odd numbers.\n",
    "\n",
    "for inner_list in two_dim_list:\n",
    "    for element in inner_list:\n",
    "        if element % 2==1:\n",
    "            print(element)"
   ]
  },
  {
   "cell_type": "code",
   "execution_count": null,
   "id": "f5f9d8f7-eb14-4f8f-a94b-eb843974900e",
   "metadata": {},
   "outputs": [],
   "source": []
  },
  {
   "cell_type": "code",
   "execution_count": 13,
   "id": "c48f44e4-04c4-4ab9-a3cb-454d0d22ecbd",
   "metadata": {},
   "outputs": [
    {
     "name": "stdout",
     "output_type": "stream",
     "text": [
      "189\n"
     ]
    }
   ],
   "source": [
    "\n",
    "# Iterate through `two_dim_list` and the lists inside of it and print the sum of all the numbers that are a multiple of 3.\n",
    "\n",
    "\n",
    "multiple_three = 0\n",
    "\n",
    "for inner_list in two_dim_list:\n",
    "    for element in inner_list:\n",
    "        if element % 3==0:\n",
    "            multiple_three += element\n",
    "print(multiple_three)"
   ]
  },
  {
   "cell_type": "code",
   "execution_count": null,
   "id": "2e95581d-5512-4663-a5f8-ede467beb308",
   "metadata": {},
   "outputs": [],
   "source": []
  },
  {
   "cell_type": "code",
   "execution_count": null,
   "id": "5c850a15-a8c5-417f-a01f-691faac6d9e4",
   "metadata": {},
   "outputs": [],
   "source": []
  },
  {
   "cell_type": "code",
   "execution_count": null,
   "id": "244f10ef-85a9-4cd6-8e76-a7ecae20250f",
   "metadata": {},
   "outputs": [],
   "source": []
  },
  {
   "cell_type": "code",
   "execution_count": null,
   "id": "e00fcafb-8ac3-497d-beec-a70d8e4db873",
   "metadata": {},
   "outputs": [],
   "source": []
  },
  {
   "cell_type": "code",
   "execution_count": null,
   "id": "a24abb89-7591-435a-8213-03ffa51d8eb2",
   "metadata": {},
   "outputs": [],
   "source": []
  },
  {
   "cell_type": "code",
   "execution_count": null,
   "id": "91d8f4d2-ac08-47ec-a89e-84a9be07e2c1",
   "metadata": {},
   "outputs": [],
   "source": []
  }
 ],
 "metadata": {
  "kernelspec": {
   "display_name": "Python 3",
   "language": "python",
   "name": "python3"
  },
  "language_info": {
   "codemirror_mode": {
    "name": "ipython",
    "version": 3
   },
   "file_extension": ".py",
   "mimetype": "text/x-python",
   "name": "python",
   "nbconvert_exporter": "python",
   "pygments_lexer": "ipython3",
   "version": "3.8.5"
  }
 },
 "nbformat": 4,
 "nbformat_minor": 5
}
