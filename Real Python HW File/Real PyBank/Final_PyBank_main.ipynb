{
 "cells": [
  {
   "cell_type": "code",
   "execution_count": null,
   "id": "503f3a42-4a2a-4092-98ec-91368194a770",
   "metadata": {},
   "outputs": [],
   "source": [
    "'''\n",
    "This code will analyze the financial records of a company. It is a very simple data set comprised of date and profit/loss \n",
    "for each date. \n",
    "\n",
    "It will calculate:\n",
    "    - The total number of months included in the dataset.\n",
    "    - The net total amount of Profit/Losses over the entire period.\n",
    "    - The average of the changes in Profit/Losses over the entire period.\n",
    "    - The greatest increase in profits (date and amount) over the entire period.\n",
    "    - The greatest decrease in losses (date and amount) over the entire period.\n",
    "    \n",
    "Target results should look similar to this:\n",
    "\n",
    "Financial Analysis\n",
    "----------------------------\n",
    "Total Months: 86\n",
    "Total: $38382578\n",
    "Average  Change: $-2315.12\n",
    "Greatest Increase in Profits: Feb-2012 ($1926159)\n",
    "Greatest Decrease in Profits: Sep-2013 ($-2196167)\n",
    "'''"
   ]
  },
  {
   "cell_type": "code",
   "execution_count": 1,
   "id": "3c4e3078-515d-4b27-b325-fded68c84807",
   "metadata": {},
   "outputs": [],
   "source": [
    "# Import the necessary libraries for reading CSV files.\n",
    "import os\n",
    "import csv"
   ]
  },
  {
   "cell_type": "code",
   "execution_count": 2,
   "id": "f6346ee6-f0e1-4287-a469-2528a81ae0a4",
   "metadata": {},
   "outputs": [],
   "source": [
    "# Set the path for the CSV file.\n",
    "\n",
    "from pathlib import Path"
   ]
  },
  {
   "cell_type": "code",
   "execution_count": 3,
   "id": "9eecf06a-b4f9-487f-a800-379d2ada488c",
   "metadata": {},
   "outputs": [
    {
     "data": {
      "text/plain": [
       "WindowsPath('C:/Users/Steve Stark REALTOR/OneDrive/Documents/fintech/fintechfiles/Real Python HW File/Real PyBank')"
      ]
     },
     "execution_count": 3,
     "metadata": {},
     "output_type": "execute_result"
    }
   ],
   "source": [
    "# Confirm path.\n",
    "\n",
    "Path.cwd()"
   ]
  },
  {
   "cell_type": "code",
   "execution_count": 4,
   "id": "b23e98da-2532-4d08-a846-36c640d4c794",
   "metadata": {},
   "outputs": [],
   "source": [
    "budget_data_path = Path('budget_data.csv')"
   ]
  },
  {
   "cell_type": "code",
   "execution_count": 7,
   "id": "da91c21a-e0c6-470e-82dc-5603b185467c",
   "metadata": {},
   "outputs": [],
   "source": [
    "# Create an empty list to hold dates. Create an empty list to hold daily profit/loss.\n",
    "\n",
    "date_list = []\n",
    "pnl_list = []\n",
    "\n",
    "# Initialize metric variables\n",
    "\n",
    "greatest_profit = 0          # Highest daily profit.\n",
    "greatest_loss = 0            # Lowest daily loss.\n",
    "avg_change_profit_loss = 0   # Average of the sum of daily changes - alternatively the difference of 1st & last values divided by total months.\n",
    "net_profit_loss = 0          # The sum of profit line. \n",
    "count_months = 0             # Total count of months in data set."
   ]
  },
  {
   "cell_type": "code",
   "execution_count": 8,
   "id": "c4edfea9-3dae-4204-8feb-ceb79ef2f1a3",
   "metadata": {},
   "outputs": [],
   "source": [
    "# Open the CSV file.\n",
    "\n",
    "with open (budget_data_path, \"r\") as budget_data_file:\n",
    "    csv_reader = csv.reader(budget_data_file, delimiter = ',')\n",
    "    header = next(csv_reader)\n",
    "        \n",
    "    for line in csv_reader:\n",
    "        date = line[0]\n",
    "        day_to_day_profit_loss = int(line[1])\n",
    "        \n",
    "        date_list.append(date)\n",
    "        pnl_list.append(day_to_day_profit_loss)\n",
    "                \n",
    "budget_data_dict = {}\n",
    "\n",
    "with open(budget_data_path, mode='r') as inp:\n",
    "    reader = csv.reader(inp)\n",
    "    budget_data_dict = {rows[0]:rows[1] for rows in reader}"
   ]
  },
  {
   "cell_type": "code",
   "execution_count": 9,
   "id": "124ba4b8-9abc-488e-aac2-eb64f743e6d4",
   "metadata": {},
   "outputs": [],
   "source": [
    "# Calculate the net_profit_loss, hightest daily profit, lowest daily loss\n",
    "for day_to_day_profit_loss in pnl_list:\n",
    "        \n",
    "    # Sum the total and count variables\n",
    "    net_profit_loss += int(day_to_day_profit_loss)\n",
    "    count_months += 1\n",
    "    \n",
    "    \n",
    "    # Logic to determine highest daily profit and lowest daily loss\n",
    "    if greatest_loss == 0:\n",
    "        greatest_loss = day_to_day_profit_loss\n",
    "    elif int(day_to_day_profit_loss) > int(greatest_profit):\n",
    "        greatest_profit = int(day_to_day_profit_loss)\n",
    "    elif int(day_to_day_profit_loss) < int(greatest_loss):\n",
    "        greatest_loss = int(day_to_day_profit_loss)"
   ]
  },
  {
   "cell_type": "code",
   "execution_count": 10,
   "id": "ca2bee3f-b27b-436f-bf1e-294c90c7e86d",
   "metadata": {},
   "outputs": [
    {
     "name": "stdout",
     "output_type": "stream",
     "text": [
      "Financial Analysis\n",
      "-------------------------\n",
      "Total Months: 86\n",
      "Total Net Profit/Loss: $38382578\n",
      "Average Daily Change: $-2315.12\n",
      "Greatest Increase in Profits: Feb-2012 ($1170593)\n",
      "Greatest Decrease in Profits: Sep-2013 ($-1196225)\n",
      "\n"
     ]
    }
   ],
   "source": [
    "# Getting it in Print.\n",
    "\n",
    "print('Financial Analysis')\n",
    "print('-------------------------')\n",
    "print(f'Total Months: {count_months}')\n",
    "print(f'Total Net Profit/Loss: ${net_profit_loss}')\n",
    "avg_change_profit_loss = round((pnl_list[-1] - pnl_list[0])/(count_months-1), 2)  \n",
    "print(f'Average Daily Change: ${avg_change_profit_loss}')\n",
    "# Print out dict key-value pairs\n",
    "for key, value in budget_data_dict.items():\n",
    "    if value == str(greatest_profit):\n",
    "        print(f\"Greatest Increase in Profits: {key} (${value})\")\n",
    "for key, value in budget_data_dict.items():\n",
    "    if value == str(greatest_loss):\n",
    "        print(f\"Greatest Decrease in Profits: {key} (${value})\")\n",
    "print()"
   ]
  },
  {
   "cell_type": "code",
   "execution_count": 11,
   "id": "6d30c248-4614-4e3b-9ba9-0b160671e321",
   "metadata": {},
   "outputs": [],
   "source": [
    "# Exporting Output to PyBankHW.txt\n",
    "\n",
    "import sys\n",
    "sys.stdout = open('PyBankHW.txt', 'wt')\n",
    "print('PyBank Homework Assignment')\n",
    "print('by Steve Stark - 06 15 2021')\n",
    "print('\\n')\n",
    "print('Financial Analysis')\n",
    "print('-------------------------')\n",
    "print(f'Total Months: {count_months}')\n",
    "print(f'Total Net Profit/Loss: ${net_profit_loss}')\n",
    "avg_change_profit_loss = round((pnl_list[-1] - pnl_list[0])/(count_months-1), 2)  \n",
    "print(f'Average Daily Change: ${avg_change_profit_loss}')\n",
    "# Print out dict key-value pairs\n",
    "for key, value in budget_data_dict.items():\n",
    "    if value == str(greatest_profit):\n",
    "        print(f\"Greatest Increase in Profits: {key} (${value})\")\n",
    "for key, value in budget_data_dict.items():\n",
    "    if value == str(greatest_loss):\n",
    "        print(f\"Greatest Decrease in Profits: {key} (${value})\")\n",
    "print()"
   ]
  },
  {
   "cell_type": "code",
   "execution_count": null,
   "id": "78ade253-f579-4cc3-882e-032c2db6527c",
   "metadata": {},
   "outputs": [],
   "source": []
  },
  {
   "cell_type": "code",
   "execution_count": null,
   "id": "b86d3ab7-3954-4ff0-890a-ef8fdeacd0c9",
   "metadata": {},
   "outputs": [],
   "source": []
  },
  {
   "cell_type": "code",
   "execution_count": null,
   "id": "344acf1c-4fd7-4c46-983d-ee4a21633025",
   "metadata": {},
   "outputs": [],
   "source": []
  },
  {
   "cell_type": "code",
   "execution_count": null,
   "id": "62412eb5-43b4-42ad-b65e-b63552e4eb2b",
   "metadata": {},
   "outputs": [],
   "source": []
  },
  {
   "cell_type": "code",
   "execution_count": null,
   "id": "f648334d-311b-4fa1-a832-433f96105f93",
   "metadata": {},
   "outputs": [],
   "source": []
  },
  {
   "cell_type": "code",
   "execution_count": null,
   "id": "24714242-74de-4c6c-a6e4-a5e5ec202e3f",
   "metadata": {},
   "outputs": [],
   "source": []
  },
  {
   "cell_type": "code",
   "execution_count": null,
   "id": "ce6501f1-9f31-46e4-87ec-66fcd0eb0ec6",
   "metadata": {},
   "outputs": [],
   "source": []
  },
  {
   "cell_type": "code",
   "execution_count": null,
   "id": "5bab1276-86e3-4c74-b1a5-f002267b6b93",
   "metadata": {},
   "outputs": [],
   "source": []
  },
  {
   "cell_type": "code",
   "execution_count": null,
   "id": "83ee0db8-6e7f-4f76-a95a-beb96b24fca7",
   "metadata": {},
   "outputs": [],
   "source": []
  },
  {
   "cell_type": "code",
   "execution_count": null,
   "id": "ea9011c6-4e59-4364-9c4b-44ffae891e1b",
   "metadata": {},
   "outputs": [],
   "source": []
  },
  {
   "cell_type": "code",
   "execution_count": null,
   "id": "8ccaee7f-5ece-4db6-9271-8ec2226918b0",
   "metadata": {},
   "outputs": [],
   "source": []
  },
  {
   "cell_type": "code",
   "execution_count": null,
   "id": "e419fed7-6270-42e7-a215-40016d691098",
   "metadata": {},
   "outputs": [],
   "source": []
  },
  {
   "cell_type": "code",
   "execution_count": null,
   "id": "f6591510-3aad-448b-a036-311c1f66c1d4",
   "metadata": {},
   "outputs": [],
   "source": []
  }
 ],
 "metadata": {
  "kernelspec": {
   "display_name": "Python 3",
   "language": "python",
   "name": "python3"
  },
  "language_info": {
   "codemirror_mode": {
    "name": "ipython",
    "version": 3
   },
   "file_extension": ".py",
   "mimetype": "text/x-python",
   "name": "python",
   "nbconvert_exporter": "python",
   "pygments_lexer": "ipython3",
   "version": "3.8.5"
  }
 },
 "nbformat": 4,
 "nbformat_minor": 5
}
